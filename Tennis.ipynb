{
 "cells": [
  {
   "cell_type": "markdown",
   "metadata": {},
   "source": [
    "# Collaboration and Competition\n",
    "\n",
    "---\n",
    "\n",
    "In this notebook, you will learn how to use the Unity ML-Agents environment for the third project of the [Deep Reinforcement Learning Nanodegree](https://www.udacity.com/course/deep-reinforcement-learning-nanodegree--nd893) program.\n",
    "\n",
    "### 1. Start the Environment\n",
    "\n",
    "We begin by importing the necessary packages.  If the code cell below returns an error, please revisit the project instructions to double-check that you have installed [Unity ML-Agents](https://github.com/Unity-Technologies/ml-agents/blob/master/docs/Installation.md) and [NumPy](http://www.numpy.org/)."
   ]
  },
  {
   "cell_type": "code",
   "execution_count": 1,
   "metadata": {},
   "outputs": [],
   "source": [
    "from unityagents import UnityEnvironment\n",
    "import numpy as np\n",
    "\n",
    "import torch\n",
    "import torch.nn as nn\n",
    "import torch.nn.functional as F\n",
    "import torch.optim as optim\n",
    "from torch.autograd import Variable\n",
    "\n",
    "import random\n",
    "from collections import namedtuple, deque\n",
    "\n",
    "import matplotlib.pyplot as plt\n",
    "%matplotlib inline\n",
    "is_ipython = 'inline' in plt.get_backend()\n",
    "if is_ipython:\n",
    "    from IPython import display\n",
    "plt.ion()\n",
    "\n",
    "from deep_rl import *"
   ]
  },
  {
   "cell_type": "markdown",
   "metadata": {},
   "source": [
    "Next, we will start the environment!  **_Before running the code cell below_**, change the `file_name` parameter to match the location of the Unity environment that you downloaded.\n",
    "\n",
    "- **Mac**: `\"path/to/Tennis.app\"`\n",
    "- **Windows** (x86): `\"path/to/Tennis_Windows_x86/Tennis.exe\"`\n",
    "- **Windows** (x86_64): `\"path/to/Tennis_Windows_x86_64/Tennis.exe\"`\n",
    "- **Linux** (x86): `\"path/to/Tennis_Linux/Tennis.x86\"`\n",
    "- **Linux** (x86_64): `\"path/to/Tennis_Linux/Tennis.x86_64\"`\n",
    "- **Linux** (x86, headless): `\"path/to/Tennis_Linux_NoVis/Tennis.x86\"`\n",
    "- **Linux** (x86_64, headless): `\"path/to/Tennis_Linux_NoVis/Tennis.x86_64\"`\n",
    "\n",
    "For instance, if you are using a Mac, then you downloaded `Tennis.app`.  If this file is in the same folder as the notebook, then the line below should appear as follows:\n",
    "```\n",
    "env = UnityEnvironment(file_name=\"Tennis.app\")\n",
    "```"
   ]
  },
  {
   "cell_type": "code",
   "execution_count": 2,
   "metadata": {},
   "outputs": [
    {
     "name": "stderr",
     "output_type": "stream",
     "text": [
      "INFO:unityagents:\n",
      "'Academy' started successfully!\n",
      "Unity Academy name: Academy\n",
      "        Number of Brains: 1\n",
      "        Number of External Brains : 1\n",
      "        Lesson number : 0\n",
      "        Reset Parameters :\n",
      "\t\t\n",
      "Unity brain name: TennisBrain\n",
      "        Number of Visual Observations (per agent): 0\n",
      "        Vector Observation space type: continuous\n",
      "        Vector Observation space size (per agent): 8\n",
      "        Number of stacked Vector Observation: 3\n",
      "        Vector Action space type: continuous\n",
      "        Vector Action space size (per agent): 2\n",
      "        Vector Action descriptions: , \n"
     ]
    }
   ],
   "source": [
    "env = UnityEnvironment(file_name=\"./Tennis_Linux/Tennis.x86_64\")"
   ]
  },
  {
   "cell_type": "markdown",
   "metadata": {},
   "source": [
    "Environments contain **_brains_** which are responsible for deciding the actions of their associated agents. Here we check for the first brain available, and set it as the default brain we will be controlling from Python."
   ]
  },
  {
   "cell_type": "code",
   "execution_count": 3,
   "metadata": {},
   "outputs": [],
   "source": [
    "# get the default brain\n",
    "brain_name = env.brain_names[0]\n",
    "brain = env.brains[brain_name]"
   ]
  },
  {
   "cell_type": "markdown",
   "metadata": {},
   "source": [
    "### 2. Examine the State and Action Spaces\n",
    "\n",
    "In this environment, two agents control rackets to bounce a ball over a net. If an agent hits the ball over the net, it receives a reward of +0.1.  If an agent lets a ball hit the ground or hits the ball out of bounds, it receives a reward of -0.01.  Thus, the goal of each agent is to keep the ball in play.\n",
    "\n",
    "The observation space consists of 8 variables corresponding to the position and velocity of the ball and racket. Two continuous actions are available, corresponding to movement toward (or away from) the net, and jumping. \n",
    "\n",
    "Run the code cell below to print some information about the environment."
   ]
  },
  {
   "cell_type": "code",
   "execution_count": 4,
   "metadata": {},
   "outputs": [
    {
     "name": "stdout",
     "output_type": "stream",
     "text": [
      "Number of agents: 2\n",
      "Size of each action: 2\n",
      "There are 2 agents. Each observes a state with length: 24\n",
      "The state for the first agent looks like: [ 0.          0.          0.          0.          0.          0.\n",
      "  0.          0.          0.          0.          0.          0.\n",
      "  0.          0.          0.          0.         -6.65278625 -1.5\n",
      " -0.          0.          6.83172083  6.         -0.          0.        ]\n"
     ]
    }
   ],
   "source": [
    "# reset the environment\n",
    "env_info = env.reset(train_mode=True)[brain_name]\n",
    "\n",
    "# number of agents \n",
    "num_agents = len(env_info.agents)\n",
    "print('Number of agents:', num_agents)\n",
    "\n",
    "# size of each action\n",
    "action_size = brain.vector_action_space_size\n",
    "print('Size of each action:', action_size)\n",
    "\n",
    "# examine the state space \n",
    "states = env_info.vector_observations\n",
    "state_size = states.shape[1]\n",
    "print('There are {} agents. Each observes a state with length: {}'.format(states.shape[0], state_size))\n",
    "print('The state for the first agent looks like:', states[0])"
   ]
  },
  {
   "cell_type": "markdown",
   "metadata": {},
   "source": [
    "### 3. Take Random Actions in the Environment\n",
    "\n",
    "In the next code cell, you will learn how to use the Python API to control the agents and receive feedback from the environment.\n",
    "\n",
    "Once this cell is executed, you will watch the agents' performance, if they select actions at random with each time step.  A window should pop up that allows you to observe the agents.\n",
    "\n",
    "Of course, as part of the project, you'll have to change the code so that the agents are able to use their experiences to gradually choose better actions when interacting with the environment!"
   ]
  },
  {
   "cell_type": "code",
   "execution_count": 5,
   "metadata": {},
   "outputs": [
    {
     "name": "stdout",
     "output_type": "stream",
     "text": [
      "Score (max over agents) from episode 1: 0.0\n",
      "Score (max over agents) from episode 2: 0.0\n",
      "Score (max over agents) from episode 3: 0.10000000149011612\n",
      "Score (max over agents) from episode 4: 0.09000000171363354\n",
      "Score (max over agents) from episode 5: 0.0\n"
     ]
    }
   ],
   "source": [
    "for i in range(1, 6):                                      # play game for 5 episodes\n",
    "    env_info = env.reset(train_mode=False)[brain_name]     # reset the environment    \n",
    "    states = env_info.vector_observations                  # get the current state (for each agent)\n",
    "    scores = np.zeros(num_agents)                          # initialize the score (for each agent)\n",
    "    while True:\n",
    "        actions = np.random.randn(num_agents, action_size) # select an action (for each agent)\n",
    "        actions = np.clip(actions, -1, 1)                  # all actions between -1 and 1\n",
    "        env_info = env.step(actions)[brain_name]           # send all actions to tne environment\n",
    "        next_states = env_info.vector_observations         # get next state (for each agent)\n",
    "        rewards = env_info.rewards                         # get reward (for each agent)\n",
    "        dones = env_info.local_done                        # see if episode finished\n",
    "        scores += env_info.rewards                         # update the score (for each agent)\n",
    "        states = next_states                               # roll over states to next time step\n",
    "        if np.any(dones):                                  # exit loop if episode finished\n",
    "            break\n",
    "    print('Score (max over agents) from episode {}: {}'.format(i, np.max(scores)))"
   ]
  },
  {
   "cell_type": "markdown",
   "metadata": {},
   "source": [
    "When finished, you can close the environment."
   ]
  },
  {
   "cell_type": "code",
   "execution_count": 6,
   "metadata": {},
   "outputs": [
    {
     "name": "stderr",
     "output_type": "stream",
     "text": [
      "INFO:MAIN:Mean return of 0.01 over a window of 100 recent episodes. 1103 episodes played so far, most recent episodic return is 0.00\n",
      "INFO:MAIN:Mean return of 0.02 over a window of 100 recent episodes. 2176 episodes played so far, most recent episodic return is 0.00\n",
      "INFO:MAIN:Mean return of 0.03 over a window of 100 recent episodes. 3217 episodes played so far, most recent episodic return is 0.00\n",
      "INFO:MAIN:Mean return of 0.02 over a window of 100 recent episodes. 4248 episodes played so far, most recent episodic return is 0.09\n",
      "INFO:MAIN:Mean return of 0.04 over a window of 100 recent episodes. 5218 episodes played so far, most recent episodic return is 0.09\n",
      "INFO:MAIN:Mean return of 0.04 over a window of 100 recent episodes. 6158 episodes played so far, most recent episodic return is 0.00\n",
      "INFO:MAIN:Mean return of 0.05 over a window of 100 recent episodes. 7016 episodes played so far, most recent episodic return is 0.00\n",
      "INFO:MAIN:Mean return of 0.05 over a window of 100 recent episodes. 7884 episodes played so far, most recent episodic return is 0.10\n",
      "INFO:MAIN:Mean return of 0.05 over a window of 100 recent episodes. 8733 episodes played so far, most recent episodic return is 0.10\n",
      "INFO:MAIN:Mean return of 0.06 over a window of 100 recent episodes. 9565 episodes played so far, most recent episodic return is 0.09\n",
      "INFO:MAIN:Mean return of 0.05 over a window of 100 recent episodes. 10382 episodes played so far, most recent episodic return is 0.00\n",
      "INFO:MAIN:Mean return of 0.05 over a window of 100 recent episodes. 11176 episodes played so far, most recent episodic return is 0.00\n",
      "INFO:MAIN:Mean return of 0.06 over a window of 100 recent episodes. 11967 episodes played so far, most recent episodic return is 0.00\n",
      "INFO:MAIN:Mean return of 0.05 over a window of 100 recent episodes. 12743 episodes played so far, most recent episodic return is 0.10\n",
      "INFO:MAIN:Mean return of 0.07 over a window of 100 recent episodes. 13475 episodes played so far, most recent episodic return is 0.00\n",
      "INFO:MAIN:Mean return of 0.07 over a window of 100 recent episodes. 14158 episodes played so far, most recent episodic return is 0.10\n",
      "INFO:MAIN:Mean return of 0.08 over a window of 100 recent episodes. 14772 episodes played so far, most recent episodic return is 0.00\n",
      "INFO:MAIN:Mean return of 0.08 over a window of 100 recent episodes. 15383 episodes played so far, most recent episodic return is 0.10\n",
      "INFO:MAIN:Mean return of 0.08 over a window of 100 recent episodes. 15970 episodes played so far, most recent episodic return is 0.10\n",
      "INFO:MAIN:Mean return of 0.08 over a window of 100 recent episodes. 16552 episodes played so far, most recent episodic return is 0.10\n",
      "INFO:MAIN:Mean return of 0.08 over a window of 100 recent episodes. 17103 episodes played so far, most recent episodic return is 0.20\n",
      "INFO:MAIN:Mean return of 0.10 over a window of 100 recent episodes. 17624 episodes played so far, most recent episodic return is 0.40\n",
      "INFO:MAIN:Mean return of 0.11 over a window of 100 recent episodes. 18069 episodes played so far, most recent episodic return is 0.00\n",
      "INFO:MAIN:Mean return of 0.09 over a window of 100 recent episodes. 18572 episodes played so far, most recent episodic return is 0.00\n",
      "INFO:MAIN:Mean return of 0.10 over a window of 100 recent episodes. 19056 episodes played so far, most recent episodic return is 0.10\n",
      "INFO:MAIN:Mean return of 0.13 over a window of 100 recent episodes. 19502 episodes played so far, most recent episodic return is 0.10\n",
      "INFO:MAIN:Mean return of 0.11 over a window of 100 recent episodes. 19920 episodes played so far, most recent episodic return is 0.00\n",
      "INFO:MAIN:Mean return of 0.14 over a window of 100 recent episodes. 20301 episodes played so far, most recent episodic return is 0.09\n",
      "INFO:MAIN:Mean return of 0.13 over a window of 100 recent episodes. 20665 episodes played so far, most recent episodic return is 0.00\n",
      "INFO:MAIN:Mean return of 0.15 over a window of 100 recent episodes. 21009 episodes played so far, most recent episodic return is 0.20\n",
      "INFO:MAIN:Mean return of 0.16 over a window of 100 recent episodes. 21309 episodes played so far, most recent episodic return is 0.10\n",
      "INFO:MAIN:Mean return of 0.15 over a window of 100 recent episodes. 21642 episodes played so far, most recent episodic return is 0.10\n",
      "INFO:MAIN:Mean return of 0.13 over a window of 100 recent episodes. 21960 episodes played so far, most recent episodic return is 0.10\n",
      "INFO:MAIN:Mean return of 0.16 over a window of 100 recent episodes. 22268 episodes played so far, most recent episodic return is 0.10\n",
      "INFO:MAIN:Mean return of 0.17 over a window of 100 recent episodes. 22557 episodes played so far, most recent episodic return is 0.10\n",
      "INFO:MAIN:Mean return of 0.17 over a window of 100 recent episodes. 22856 episodes played so far, most recent episodic return is 0.00\n",
      "INFO:MAIN:Mean return of 0.24 over a window of 100 recent episodes. 23087 episodes played so far, most recent episodic return is 0.10\n",
      "INFO:MAIN:Mean return of 0.22 over a window of 100 recent episodes. 23305 episodes played so far, most recent episodic return is 0.30\n",
      "INFO:MAIN:Mean return of 0.21 over a window of 100 recent episodes. 23528 episodes played so far, most recent episodic return is 0.10\n",
      "INFO:MAIN:Mean return of 0.28 over a window of 100 recent episodes. 23723 episodes played so far, most recent episodic return is 0.10\n",
      "INFO:MAIN:Mean return of 0.27 over a window of 100 recent episodes. 23917 episodes played so far, most recent episodic return is 0.10\n",
      "INFO:MAIN:Mean return of 0.25 over a window of 100 recent episodes. 24109 episodes played so far, most recent episodic return is 0.60\n",
      "INFO:MAIN:Mean return of 0.29 over a window of 100 recent episodes. 24289 episodes played so far, most recent episodic return is 0.40\n",
      "INFO:MAIN:Mean return of 0.27 over a window of 100 recent episodes. 24465 episodes played so far, most recent episodic return is 0.10\n",
      "INFO:MAIN:Mean return of 0.33 over a window of 100 recent episodes. 24633 episodes played so far, most recent episodic return is 0.10\n",
      "INFO:MAIN:Mean return of 0.31 over a window of 100 recent episodes. 24795 episodes played so far, most recent episodic return is 0.20\n",
      "INFO:MAIN:Mean return of 0.28 over a window of 100 recent episodes. 24964 episodes played so far, most recent episodic return is 0.10\n",
      "INFO:MAIN:Mean return of 0.36 over a window of 100 recent episodes. 25107 episodes played so far, most recent episodic return is 0.80\n",
      "INFO:MAIN:Mean return of 0.34 over a window of 100 recent episodes. 25270 episodes played so far, most recent episodic return is 0.10\n",
      "INFO:MAIN:Mean return of 0.34 over a window of 100 recent episodes. 25432 episodes played so far, most recent episodic return is 0.20\n",
      "INFO:MAIN:Mean return of 0.35 over a window of 100 recent episodes. 25572 episodes played so far, most recent episodic return is 0.40\n",
      "INFO:MAIN:Mean return of 0.41 over a window of 100 recent episodes. 25705 episodes played so far, most recent episodic return is 0.70\n",
      "INFO:MAIN:Mean return of 0.48 over a window of 100 recent episodes. 25812 episodes played so far, most recent episodic return is 0.10\n",
      "INFO:MAIN:Mean return of 0.40 over a window of 100 recent episodes. 25953 episodes played so far, most recent episodic return is 0.10\n",
      "INFO:MAIN:Mean return of 0.43 over a window of 100 recent episodes. 26077 episodes played so far, most recent episodic return is 0.09\n",
      "INFO:MAIN:Mean return of 0.42 over a window of 100 recent episodes. 26203 episodes played so far, most recent episodic return is 0.00\n",
      "INFO:MAIN:Mean return of 0.33 over a window of 100 recent episodes. 26356 episodes played so far, most recent episodic return is 0.50\n",
      "INFO:MAIN:Mean return of 0.46 over a window of 100 recent episodes. 26469 episodes played so far, most recent episodic return is 0.30\n"
     ]
    }
   ],
   "source": [
    "from collections import deque\n",
    "\n",
    "rewards_deque = deque(maxlen=100)\n",
    "rewards_all = []\n",
    "\n",
    "class TennisTask(BaseTask):\n",
    "    def __init__(self):\n",
    "        BaseTask.__init__(self)\n",
    "        self.name = 'Tennis'\n",
    "        self.env = env\n",
    "        self.action_dim = num_agents*brain.vector_action_space_size\n",
    "        self.state_dim = num_agents*state_size\n",
    "        self.ep_return_agent_1 = 0.\n",
    "        self.ep_return_agent_2 = 0.\n",
    "        \n",
    "    def reset(self):\n",
    "        self.ep_return_agent_1 = 0.\n",
    "        self.ep_return_agent_2 = 0.\n",
    "        env_info = self.env.reset(train_mode=True)[brain_name]\n",
    "        return np.array(env_info.vector_observations).reshape(1, -1)\n",
    "\n",
    "    def step(self, action):\n",
    "        action = np.clip(action, -1, 1).reshape(num_agents, -1)\n",
    "        env_info = self.env.step(action)[brain_name]\n",
    "        next_state = env_info.vector_observations.reshape(1, -1)   # get the next state\n",
    "        reward = np.sum(env_info.rewards)                   # get the reward\n",
    "        done = np.any(env_info.local_done)\n",
    "        self.ep_return_agent_1 += env_info.rewards[0]\n",
    "        self.ep_return_agent_2 += env_info.rewards[1]\n",
    "        if done:\n",
    "            the_ep_return = max(self.ep_return_agent_1, self.ep_return_agent_2)\n",
    "            rewards_deque.append(the_ep_return)\n",
    "            rewards_all.append(the_ep_return)\n",
    "            next_state = self.reset()\n",
    "        return next_state, np.array([reward]), np.array([done]), None\n",
    "    \n",
    "    def seed(self, random_seed):\n",
    "        pass\n",
    "    \n",
    "def run_steps_2(agent):\n",
    "    random_seed()\n",
    "    config = agent.config\n",
    "    while True:\n",
    "        if config.log_interval and not agent.total_steps % config.log_interval and len(agent.episode_rewards):            \n",
    "            config.logger.info('Mean return of %.2f over a window of %d recent episodes. %d episodes played so far, most recent episodic return is %.2f' % (\n",
    "                np.mean(rewards_deque), len(rewards_deque), len(rewards_all), rewards_all[-1]))\n",
    "        if len(rewards_deque) and (np.mean(rewards_deque) >= 0.5):\n",
    "            save_path = 'winning_model.bin'\n",
    "            agent.save(save_path)\n",
    "            res = True, rewards_deque, rewards_all, save_path\n",
    "            agent.close()\n",
    "            return res\n",
    "        if config.max_steps and agent.total_steps >= config.max_steps:\n",
    "            agent.close()\n",
    "            return False, None, None, None\n",
    "        agent.step()\n",
    "\n",
    "    \n",
    "def ppo_cont_2():\n",
    "    config = Config()\n",
    "    config.num_workers = 1\n",
    "    # task_fn = lambda log_dir: Pendulum(log_dir=log_dir)\n",
    "    # task_fn = lambda log_dir: Bullet('AntBulletEnv-v0', log_dir=log_dir)\n",
    "    task_fn = lambda : TennisTask()\n",
    "    config.task_fn = task_fn\n",
    "    config.eval_env = task_fn()\n",
    "\n",
    "    config.network_fn = lambda: GaussianActorCriticNet(\n",
    "        config.state_dim, config.action_dim, actor_body=FCBody(config.state_dim),\n",
    "        critic_body=FCBody(config.state_dim))\n",
    "    config.optimizer_fn = lambda params: torch.optim.Adam(params, 3e-4, eps=1e-5)\n",
    "    config.discount = 0.99\n",
    "    config.use_gae = True\n",
    "    config.gae_tau = 0.95\n",
    "    config.gradient_clip = 5\n",
    "    config.rollout_length = 2048\n",
    "    config.optimization_epochs = 10\n",
    "    config.num_mini_batches = 32\n",
    "    config.ppo_ratio_clip = 0.2\n",
    "    config.log_interval = 20480\n",
    "    config.max_steps = 2e7\n",
    "    config.logger = get_logger()\n",
    "    return run_steps_2(PPOAgent(config))\n",
    "    \n",
    "success, rwd_deque, rwd_all, model_path = ppo_cont_2()"
   ]
  },
  {
   "cell_type": "code",
   "execution_count": 7,
   "metadata": {},
   "outputs": [
    {
     "name": "stdout",
     "output_type": "stream",
     "text": [
      "SUCCESS: Mean return of 0.50 obtained over the last 100 episodes. Victory was achieved after playing a total of 26474 episodes.\n"
     ]
    }
   ],
   "source": [
    "if success:\n",
    "    print(\"SUCCESS: Mean return of %.2f obtained over the last %d episodes. Victory was achieved after playing a total of %d episodes.\" % (\n",
    "        np.mean(rwd_deque), len(rwd_deque), len(rwd_all)))"
   ]
  },
  {
   "cell_type": "code",
   "execution_count": 8,
   "metadata": {},
   "outputs": [
    {
     "data": {
      "image/png": "[encoded data removed]",
      "text/plain": [
       "<Figure size 432x288 with 1 Axes>"
      ]
     },
     "metadata": {},
     "output_type": "display_data"
    }
   ],
   "source": [
    "if success:\n",
    "    fig = plt.figure()\n",
    "    ax = fig.add_subplot(111)\n",
    "    plt.plot(np.arange(len(rwd_all)), rwd_all)\n",
    "    plt.ylabel('Score')\n",
    "    plt.xlabel('Episode #')\n",
    "    plt.show()"
   ]
  },
  {
   "cell_type": "code",
   "execution_count": 9,
   "metadata": {},
   "outputs": [],
   "source": [
    "env.close()"
   ]
  },
  {
   "cell_type": "markdown",
   "metadata": {},
   "source": [
    "### 4. It's Your Turn!\n",
    "\n",
    "Now it's your turn to train your own agent to solve the environment!  When training the environment, set `train_mode=True`, so that the line for resetting the environment looks like the following:\n",
    "```python\n",
    "env_info = env.reset(train_mode=True)[brain_name]\n",
    "```"
   ]
  }
 ],
 "metadata": {
  "kernelspec": {
   "display_name": "Python 3",
   "language": "python",
   "name": "python3"
  },
  "language_info": {
   "codemirror_mode": {
    "name": "ipython",
    "version": 3
   },
   "file_extension": ".py",
   "mimetype": "text/x-python",
   "name": "python",
   "nbconvert_exporter": "python",
   "pygments_lexer": "ipython3",
   "version": "3.6.6"
  }
 },
 "nbformat": 4,
 "nbformat_minor": 2
}
